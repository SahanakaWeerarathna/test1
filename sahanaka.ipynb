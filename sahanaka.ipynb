{
 "cells": [
  {
   "cell_type": "markdown",
   "id": "f1e8df65-54b4-4805-81be-4da7adfd6c26",
   "metadata": {},
   "source": [
    "# My Jupyter Notebook on IBM Watson Studio"
   ]
  },
  {
   "cell_type": "markdown",
   "id": "40d446b7-7e34-4708-b261-f52a58be392e",
   "metadata": {},
   "source": [
    "**sahanaka weerarathna**  \n",
    "Applications Engineer"
   ]
  },
  {
   "cell_type": "markdown",
   "id": "dc210933-c68f-4d34-886f-6d69d7be051d",
   "metadata": {},
   "source": [
    "_I am interested in data science because i love to predict future and it feels like im a magician._"
   ]
  },
  {
   "cell_type": "markdown",
   "id": "89f9c027-f261-40ac-9eb6-d5335cf28052",
   "metadata": {},
   "source": [
    "### Following code will pint the value of x+y"
   ]
  },
  {
   "cell_type": "code",
   "execution_count": 3,
   "id": "b11a51f9-ca8a-40cb-84ba-e59de108f3f9",
   "metadata": {},
   "outputs": [
    {
     "name": "stdout",
     "output_type": "stream",
     "text": [
      "15\n"
     ]
    }
   ],
   "source": [
    "x = 5\n",
    "y = 10\n",
    "print(x+y)"
   ]
  },
  {
   "cell_type": "markdown",
   "id": "9f5c3910-a912-45b7-900e-9a9f5ef24cf7",
   "metadata": {},
   "source": [
    "> blocked quotes\n",
    "1. one\n",
    "1. two\n",
    "1. three\n",
    "* one\n",
    "* two\n",
    "* three\n"
   ]
  },
  {
   "cell_type": "code",
   "execution_count": null,
   "id": "648e1525-2163-4a9c-ba3a-89266cfc7f1b",
   "metadata": {},
   "outputs": [],
   "source": []
  }
 ],
 "metadata": {
  "kernelspec": {
   "display_name": "Python",
   "language": "python",
   "name": "conda-env-python-py"
  },
  "language_info": {
   "codemirror_mode": {
    "name": "ipython",
    "version": 3
   },
   "file_extension": ".py",
   "mimetype": "text/x-python",
   "name": "python",
   "nbconvert_exporter": "python",
   "pygments_lexer": "ipython3",
   "version": "3.7.12"
  }
 },
 "nbformat": 4,
 "nbformat_minor": 5
}
